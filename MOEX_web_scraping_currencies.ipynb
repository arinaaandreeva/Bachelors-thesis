{
  "nbformat": 4,
  "nbformat_minor": 0,
  "metadata": {
    "colab": {
      "provenance": [],
      "authorship_tag": "ABX9TyOTCj0Zfeuq4H2zcbE3I9Dv",
      "include_colab_link": true
    },
    "kernelspec": {
      "name": "python3",
      "display_name": "Python 3"
    },
    "language_info": {
      "name": "python"
    }
  },
  "cells": [
    {
      "cell_type": "markdown",
      "metadata": {
        "id": "view-in-github",
        "colab_type": "text"
      },
      "source": [
        "<a href=\"https://colab.research.google.com/github/arinaaandreeva/Bachelors-thesis/blob/main/MOEX_web_scraping_currencies.ipynb\" target=\"_parent\"><img src=\"https://colab.research.google.com/assets/colab-badge.svg\" alt=\"Open In Colab\"/></a>"
      ]
    },
    {
      "cell_type": "code",
      "execution_count": 1,
      "metadata": {
        "id": "l4biFeJ6m5jY"
      },
      "outputs": [],
      "source": [
        "import pandas as pd\n",
        "import numpy as np\n",
        "import seaborn as sns\n",
        "import matplotlib.pyplot as plt\n",
        "from urllib.parse import urlencode\n",
        "from urllib.request import urlopen\n",
        "from datetime import datetime, timedelta"
      ]
    },
    {
      "cell_type": "markdown",
      "source": [
        "Коды валют на Мосбирже ищу в коде страницы, например,\n",
        "\n",
        "\tconst params = {\n",
        "\t\ttitle: \"Usd/Rub\",\n",
        "\t\tchpUrl: \"forex/usdrub\"\n",
        "\t};\n",
        "\tinfinity.ui.left.my.recent.add(\"901\", params);\n",
        "\n",
        "  data-id=\""
      ],
      "metadata": {
        "id": "g2jFroji3XJO"
      }
    },
    {
      "cell_type": "code",
      "source": [
        "start = \"01.01.2000\"\n",
        "start_date = datetime.strptime(start, \"%d.%m.%Y\").date()\n",
        "start_date+ timedelta(days=1096*2)"
      ],
      "metadata": {
        "colab": {
          "base_uri": "https://localhost:8080/"
        },
        "id": "ohHFm9Ns4zJi",
        "outputId": "5a730588-8f29-433e-e0e9-224851a13f27"
      },
      "execution_count": null,
      "outputs": [
        {
          "output_type": "execute_result",
          "data": {
            "text/plain": [
              "datetime.date(2006, 1, 1)"
            ]
          },
          "metadata": {},
          "execution_count": 44
        }
      ]
    },
    {
      "cell_type": "code",
      "source": [
        "df_curs = pd.DataFrame(columns=['date'])\n",
        "#dti = pd.date_range(\"2010-01-01\", periods=123000, freq=\"H\")\n",
        "#df_curs_all = pd.DataFrame(dti, columns = ['date'])\n",
        "tickers = {'USDRUS_TOM' : 182400, 'EURRUS_TOM' : 182398, 'CNYRUS_TOM' : 182406, 'KZTRUB_TOM' : 182400, 'TRYRUB_TOM' : 491786} # 'USDRUS': 901, 'EURRUS' : 66860,\n",
        "\n",
        "for ticker in tickers.keys():\n",
        "  ticker = ticker\n",
        "  df_curs = pd.DataFrame(columns=['date'])\n",
        "  for i in range(0, 9):\n",
        "    start = \"01.01.2000\" #с какой даты начинать тянуть котировки\n",
        "    end = \"31.12.2002\" #финальная дата, по которую тянуть котировки\n",
        "    #FINAM_URL = \"http://export.finam.ru/\"# сервер, на который стучимся\n",
        "\n",
        "    start_date = datetime.strptime(start, \"%d.%m.%Y\").date()\n",
        "    start_date =start_date + timedelta(days=1096*i)\n",
        "    start_date_rev=datetime.strftime(start_date, '%Y/%m/%d')\n",
        "    end_date = datetime.strptime(end, \"%d.%m.%Y\").date()\n",
        "    end_date =end_date + timedelta(days=1096*i)\n",
        "    end_date_rev=datetime.strftime(end_date, '%Y/%m/%d')\n",
        "\n",
        "\n",
        "    url = f'https://export.finam.ru/export9.out?apply=0&p=7&e=.csv&dtf=4&tmf=3&MSOR=0&mstime=on&mstimever=1&sep=3&sep2=3&datf=3&at=1&from={start_date}&to={end_date}&market=0&em={tickers[ticker]}&code={ticker}&f={ticker+\"_\" + start_date_rev + \"_\" + end_date_rev}&cn={ticker}&yf={start_date.year}&yt={end_date.year}&df={start_date.day}&dt={end_date.day}&mf={start_date.month - 1}&mt={end_date.month - 1}&token=03AFcWeA4nRzCufo8YhUebJoiSr7PSC2PcolwqBebmZvqFZTQCiq7TOWKxssRNHD2iEjUGyYBFvNten02U7Lc0UOaRvK9CM-TQqnNVERy4FqgorZVKcrDKag7ZCMUdU8Pm7v0s21ZCTmxDsfCU1bBtRyRNkCtTiT00DwQESSjqs4O1OOqkKjj1kH3O2CYI5gzF67AWCBdg_CRInvIxjqriIiW1BiN82K4ZdN4kQj3s0Bb8j46daJjcVKUu_pclyUsaWfGcS1qpCO7VgAnrV8AUI3Yn5g9hozZhh2r1ZESkw1M94AAtOoMmigUcyUe0lfDE1YjdXHTjsXD83DN6VegsBJrG3qNiS9SK5JX5odRRs_ZMe6qFsxr1nneRWpMIPF6i_xHBbVMs9aJ9yNuCkc7BWebvff_4It-RpybXkNYRF15buh47KnbOsSUUAEhEmVPNVfUX1yDM-bHT0SfIZustu4CaTu8NU7_l-jFd2lJHFx-oJgJaKJLxMdQH35JR8tBQMSk8dmL6WokmMK7U1AZIwOGnIV6A5g6Naf95lyYt5uvpeVcnFFOzftbRTaAnliE8U_eO5cEyeqB9'\n",
        "\n",
        "\n",
        "    txt=urlopen(url).readlines() #здесь лежит огромный массив данных, прилетевший с Финама.\n",
        "    if len(txt) > 1:\n",
        "      local_file = open('quotes.csv', \"w\") #задаём файл, в который запишем котировки.\n",
        "      for line in txt: #записываем свечи строку за строкой.\n",
        "        local_file.write(line.strip().decode( \"ISO-8859-1\" )+'\\n')\n",
        "      local_file.close()\n",
        "      df_new = pd.read_csv('/content/quotes.csv', sep = ';')\n",
        "      df_new = df_new[['<DATE>','<CLOSE>', '<VOL>']]\n",
        "      df_new.rename(columns = {'<DATE>' : 'date', '<CLOSE>' : f'{ticker}_close', '<VOL>' : f'{ticker}_volume'}, inplace = True)\n",
        "      df_new['date'] = pd.to_datetime(df_new['date'], format='%d/%m/%y')\n",
        "\n",
        "      df_curs = pd.concat([df_curs, df_new], axis=0)\n",
        "\n",
        "    df_curs.to_csv(f'{ticker}.csv')"
      ],
      "metadata": {
        "id": "vWjBmeuj4KB_"
      },
      "execution_count": 2,
      "outputs": []
    },
    {
      "cell_type": "code",
      "source": [
        "df_usd = pd.read_csv('/content/USDRUS_TOM.csv')\n",
        "tickers_list = ['EURRUS_TOM', 'CNYRUS_TOM', 'KZTRUB_TOM', 'TRYRUB_TOM']\n",
        "for ticker in tickers_list:\n",
        "  df_dop = pd.read_csv(f'/content/{ticker}.csv')\n",
        "\n",
        "  df_usd = df_usd.merge(df_dop, on = 'date')\n"
      ],
      "metadata": {
        "colab": {
          "base_uri": "https://localhost:8080/"
        },
        "id": "DIOHdS59GWDn",
        "outputId": "4898ffc7-ff80-4a46-e996-9af8332cd143"
      },
      "execution_count": null,
      "outputs": [
        {
          "output_type": "stream",
          "name": "stderr",
          "text": [
            "<ipython-input-8-ea34e611913e>:6: FutureWarning: Passing 'suffixes' which cause duplicate columns {'Unnamed: 0_x'} in the result is deprecated and will raise a MergeError in a future version.\n",
            "  df_usd = df_usd.merge(df_dop, on = 'date')\n"
          ]
        }
      ]
    },
    {
      "cell_type": "code",
      "source": [
        "df_usd = pd.read_csv('/content/USDRUS_TOM.csv')\n",
        "df_dop = pd.read_csv('/content/CNYRUS_TOM.csv')\n",
        "df_dop1 = pd.read_csv('/content/EURRUS_TOM.csv')\n",
        "df_usd = df_usd.merge(df_dop, on = 'date')\n",
        "df_usd = df_usd.merge(df_dop1, on = 'date')"
      ],
      "metadata": {
        "id": "JSoNCSW_ITu3"
      },
      "execution_count": 2,
      "outputs": []
    },
    {
      "cell_type": "code",
      "source": [
        "df_dop2 = pd.read_csv('/content/KZTRUB_TOM.csv')\n",
        "df_usd = df_usd.merge(df_dop2, on = 'date')"
      ],
      "metadata": {
        "colab": {
          "base_uri": "https://localhost:8080/"
        },
        "id": "ujvvGRSllwnX",
        "outputId": "837164ff-53c9-4ffa-9420-2cced04bb6d6"
      },
      "execution_count": null,
      "outputs": [
        {
          "output_type": "stream",
          "name": "stderr",
          "text": [
            "<ipython-input-3-8d77be37970b>:2: FutureWarning: Passing 'suffixes' which cause duplicate columns {'Unnamed: 0_x'} in the result is deprecated and will raise a MergeError in a future version.\n",
            "  df_usd = df_usd.merge(df_dop2, on = 'date')\n"
          ]
        }
      ]
    },
    {
      "cell_type": "code",
      "source": [
        "df_dop3 = pd.read_csv('/content/TRYRUB_TOM.csv')\n",
        "df_usd = df_usd.merge(df_dop3, on = 'date')"
      ],
      "metadata": {
        "id": "qbRPfcZol-Kn"
      },
      "execution_count": null,
      "outputs": []
    },
    {
      "cell_type": "code",
      "source": [
        "df_usd.to_csv('all_curs.csv')"
      ],
      "metadata": {
        "id": "wynHM4Ldkg0X"
      },
      "execution_count": 3,
      "outputs": []
    },
    {
      "cell_type": "code",
      "source": [
        "df_usd"
      ],
      "metadata": {
        "id": "qBb5R-STkZHi"
      },
      "execution_count": null,
      "outputs": []
    }
  ]
}