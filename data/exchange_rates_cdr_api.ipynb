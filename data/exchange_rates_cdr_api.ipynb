{
 "cells": [
  {
   "cell_type": "code",
   "execution_count": 25,
   "id": "e2e86ee1",
   "metadata": {},
   "outputs": [],
   "source": [
    "import requests\n",
    "import json\n",
    "from bs4 import BeautifulSoup\n",
    "import dateparser\n",
    "import pandas as pd"
   ]
  },
  {
   "cell_type": "code",
   "execution_count": 26,
   "id": "269c7a7b",
   "metadata": {},
   "outputs": [],
   "source": [
    "df_all_rates = pd.DataFrame()\n",
    "df_all_rates['date'] = pd.date_range('20000101',periods = 6000)"
   ]
  },
  {
   "cell_type": "code",
   "execution_count": 27,
   "id": "8987b04b",
   "metadata": {},
   "outputs": [
    {
     "name": "stdout",
     "output_type": "stream",
     "text": [
      "5946 records found for R01235\n"
     ]
    },
    {
     "name": "stderr",
     "output_type": "stream",
     "text": [
      "C:\\Users\\user\\anaconda3\\lib\\site-packages\\dateparser\\date_parser.py:35: PytzUsageWarning: The localize method is no longer necessary, as this time zone supports the fold attribute (PEP 495). For more details on migrating to a PEP 495-compliant implementation, see https://pytz-deprecation-shim.readthedocs.io/en/latest/migration.html\n",
      "  date_obj = stz.localize(date_obj)\n"
     ]
    },
    {
     "name": "stdout",
     "output_type": "stream",
     "text": [
      "4443 records found for R01375\n"
     ]
    },
    {
     "name": "stderr",
     "output_type": "stream",
     "text": [
      "C:\\Users\\user\\anaconda3\\lib\\site-packages\\dateparser\\date_parser.py:35: PytzUsageWarning: The localize method is no longer necessary, as this time zone supports the fold attribute (PEP 495). For more details on migrating to a PEP 495-compliant implementation, see https://pytz-deprecation-shim.readthedocs.io/en/latest/migration.html\n",
      "  date_obj = stz.localize(date_obj)\n"
     ]
    },
    {
     "name": "stdout",
     "output_type": "stream",
     "text": [
      "5946 records found for R01239\n"
     ]
    },
    {
     "name": "stderr",
     "output_type": "stream",
     "text": [
      "C:\\Users\\user\\anaconda3\\lib\\site-packages\\dateparser\\date_parser.py:35: PytzUsageWarning: The localize method is no longer necessary, as this time zone supports the fold attribute (PEP 495). For more details on migrating to a PEP 495-compliant implementation, see https://pytz-deprecation-shim.readthedocs.io/en/latest/migration.html\n",
      "  date_obj = stz.localize(date_obj)\n"
     ]
    }
   ],
   "source": [
    "VAL_NM_RQ_dict = {'USD' : 'R01235', 'CNY' : 'R01375', 'EUR': 'R01239'}\n",
    "\n",
    "for valut in VAL_NM_RQ_dict.values():\n",
    "    \n",
    "    cbr_rate_api_res = requests.get(\"http://www.cbr.ru/scripts/XML_dynamic.asp\", params = {\n",
    "    \"date_req1\": \"01/01/2000\",\n",
    "    \"date_req2\": \"20/12/2023\",\n",
    "    \"VAL_NM_RQ\": valut})\n",
    "    cbr_rate_api_res.raise_for_status()\n",
    "    \n",
    "    resp_text = cbr_rate_api_res.text.replace('<?xml version=\"1.0\" encoding=\"windows-1251\"?>', '<?xml version=\"1.0\"?>')\n",
    "    resp_soup = BeautifulSoup(resp_text, \"xml\")\n",
    "    val_curs_soup = resp_soup.find(\"ValCurs\")\n",
    "    val_curs_records = val_curs_soup.find_all(\"Record\")\n",
    "    print(f\"{len(val_curs_records)} records found for {valut}\")\n",
    "    \n",
    "    rate_list = []\n",
    "\n",
    "    for record in val_curs_records:\n",
    "        date_str = record[\"Date\"]\n",
    "        nom_str = record.find(\"Nominal\").get_text()\n",
    "        val_str = record.find(\"Value\").get_text()\n",
    "\n",
    "        nom = float(nom_str.replace(\",\", \".\"))\n",
    "        val = float(val_str.replace(\",\", \".\"))\n",
    "\n",
    "        rate = val / nom\n",
    "        date = dateparser.parse(date_str)\n",
    "\n",
    "        record_dict = {\n",
    "            \"date\": date,\n",
    "            f\"rate_{valut}\": rate\n",
    "        }\n",
    "        rate_list.append(record_dict)\n",
    "        \n",
    "    rate_df = pd.DataFrame(rate_list)\n",
    "        #print(rate_df)\n",
    "    df_all_rates = df_all_rates.merge(rate_df, on = 'date', how = 'outer')"
   ]
  },
  {
   "cell_type": "code",
   "execution_count": 34,
   "id": "214b542b",
   "metadata": {},
   "outputs": [
    {
     "data": {
      "text/html": [
       "<div>\n",
       "<style scoped>\n",
       "    .dataframe tbody tr th:only-of-type {\n",
       "        vertical-align: middle;\n",
       "    }\n",
       "\n",
       "    .dataframe tbody tr th {\n",
       "        vertical-align: top;\n",
       "    }\n",
       "\n",
       "    .dataframe thead th {\n",
       "        text-align: right;\n",
       "    }\n",
       "</style>\n",
       "<table border=\"1\" class=\"dataframe\">\n",
       "  <thead>\n",
       "    <tr style=\"text-align: right;\">\n",
       "      <th></th>\n",
       "      <th>date</th>\n",
       "      <th>rate_R01235</th>\n",
       "      <th>rate_R01375</th>\n",
       "      <th>rate_R01239</th>\n",
       "    </tr>\n",
       "  </thead>\n",
       "  <tbody>\n",
       "    <tr>\n",
       "      <th>0</th>\n",
       "      <td>2000-01-01</td>\n",
       "      <td>27.0000</td>\n",
       "      <td>3.2610</td>\n",
       "      <td>27.2000</td>\n",
       "    </tr>\n",
       "    <tr>\n",
       "      <th>1</th>\n",
       "      <td>2000-01-02</td>\n",
       "      <td>28.5500</td>\n",
       "      <td>3.4490</td>\n",
       "      <td>27.9800</td>\n",
       "    </tr>\n",
       "    <tr>\n",
       "      <th>2</th>\n",
       "      <td>2000-01-03</td>\n",
       "      <td>28.6500</td>\n",
       "      <td>3.4620</td>\n",
       "      <td>27.7500</td>\n",
       "    </tr>\n",
       "    <tr>\n",
       "      <th>3</th>\n",
       "      <td>2000-01-04</td>\n",
       "      <td>28.6000</td>\n",
       "      <td>3.4380</td>\n",
       "      <td>27.4000</td>\n",
       "    </tr>\n",
       "    <tr>\n",
       "      <th>4</th>\n",
       "      <td>2000-01-05</td>\n",
       "      <td>NaN</td>\n",
       "      <td>3.4340</td>\n",
       "      <td>NaN</td>\n",
       "    </tr>\n",
       "    <tr>\n",
       "      <th>...</th>\n",
       "      <td>...</td>\n",
       "      <td>...</td>\n",
       "      <td>...</td>\n",
       "      <td>...</td>\n",
       "    </tr>\n",
       "    <tr>\n",
       "      <th>7856</th>\n",
       "      <td>2023-12-14</td>\n",
       "      <td>89.8926</td>\n",
       "      <td>12.4993</td>\n",
       "      <td>96.9500</td>\n",
       "    </tr>\n",
       "    <tr>\n",
       "      <th>7857</th>\n",
       "      <td>2023-12-15</td>\n",
       "      <td>89.6741</td>\n",
       "      <td>12.5457</td>\n",
       "      <td>97.7377</td>\n",
       "    </tr>\n",
       "    <tr>\n",
       "      <th>7858</th>\n",
       "      <td>2023-12-16</td>\n",
       "      <td>89.6966</td>\n",
       "      <td>12.6091</td>\n",
       "      <td>98.4186</td>\n",
       "    </tr>\n",
       "    <tr>\n",
       "      <th>7859</th>\n",
       "      <td>2023-12-19</td>\n",
       "      <td>90.4162</td>\n",
       "      <td>12.6578</td>\n",
       "      <td>98.7578</td>\n",
       "    </tr>\n",
       "    <tr>\n",
       "      <th>7860</th>\n",
       "      <td>2023-12-20</td>\n",
       "      <td>90.0870</td>\n",
       "      <td>12.5790</td>\n",
       "      <td>98.5764</td>\n",
       "    </tr>\n",
       "  </tbody>\n",
       "</table>\n",
       "<p>7861 rows × 4 columns</p>\n",
       "</div>"
      ],
      "text/plain": [
       "           date  rate_R01235  rate_R01375  rate_R01239\n",
       "0    2000-01-01      27.0000       3.2610      27.2000\n",
       "1    2000-01-02      28.5500       3.4490      27.9800\n",
       "2    2000-01-03      28.6500       3.4620      27.7500\n",
       "3    2000-01-04      28.6000       3.4380      27.4000\n",
       "4    2000-01-05          NaN       3.4340          NaN\n",
       "...         ...          ...          ...          ...\n",
       "7856 2023-12-14      89.8926      12.4993      96.9500\n",
       "7857 2023-12-15      89.6741      12.5457      97.7377\n",
       "7858 2023-12-16      89.6966      12.6091      98.4186\n",
       "7859 2023-12-19      90.4162      12.6578      98.7578\n",
       "7860 2023-12-20      90.0870      12.5790      98.5764\n",
       "\n",
       "[7861 rows x 4 columns]"
      ]
     },
     "execution_count": 34,
     "metadata": {},
     "output_type": "execute_result"
    }
   ],
   "source": [
    "df_all_rates"
   ]
  },
  {
   "cell_type": "code",
   "execution_count": null,
   "id": "97a25edc",
   "metadata": {},
   "outputs": [],
   "source": []
  }
 ],
 "metadata": {
  "kernelspec": {
   "display_name": "Python 3 (ipykernel)",
   "language": "python",
   "name": "python3"
  },
  "language_info": {
   "codemirror_mode": {
    "name": "ipython",
    "version": 3
   },
   "file_extension": ".py",
   "mimetype": "text/x-python",
   "name": "python",
   "nbconvert_exporter": "python",
   "pygments_lexer": "ipython3",
   "version": "3.9.7"
  }
 },
 "nbformat": 4,
 "nbformat_minor": 5
}
